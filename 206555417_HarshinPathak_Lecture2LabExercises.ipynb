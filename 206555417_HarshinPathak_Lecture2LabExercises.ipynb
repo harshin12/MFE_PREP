{
 "cells": [
  {
   "cell_type": "markdown",
   "id": "b0679e41-524f-4352-b5c3-71a13371d24b",
   "metadata": {},
   "source": [
    "# Lecture 2 Lab Exercises\n",
    "* Harshin Pathak\n",
    "* Self Assesment: Overall, this assignment was interesting as It included a conceptual portion that I quite enjoyed. I will say that I had issues with 3.17) Nested Loops. This question took me alot longer than it should have as I have never done in exercise like this. I will certainly review that question and note it for future reference. "
   ]
  },
  {
   "cell_type": "markdown",
   "id": "bcbd49e5-c37f-408f-b001-c168aa4bb4e2",
   "metadata": {},
   "source": [
    "## 3.10 7% Investment return: Modify your solution to 2.12 using a for loop\n",
    "To solve this question I edited the code I used to solution 2.12. The main edits I did was to condense all the individual calculations for a1, a2, and a3 into a single generalized for loop. The for loop will run based on the individual \"n\" values in the dataset n_t."
   ]
  },
  {
   "cell_type": "code",
   "execution_count": 149,
   "id": "f74cf8e8-288c-42be-ad3b-00a9cc05eace",
   "metadata": {},
   "outputs": [
    {
     "name": "stdout",
     "output_type": "stream",
     "text": [
      "The desposit amount after 1 years is 1070.0 dollars\n",
      "The desposit amount after 2 years is 1144.9 dollars\n",
      "The desposit amount after 3 years is 1225.0430000000001 dollars\n",
      "The desposit amount after 4 years is 1310.7960100000003 dollars\n",
      "The desposit amount after 5 years is 1402.5517307000005 dollars\n",
      "The desposit amount after 6 years is 1500.7303518490005 dollars\n",
      "The desposit amount after 7 years is 1605.7814764784307 dollars\n",
      "The desposit amount after 8 years is 1718.186179831921 dollars\n",
      "The desposit amount after 9 years is 1838.4592124201556 dollars\n",
      "The desposit amount after 10 years is 1967.1513572895665 dollars\n",
      "The desposit amount after 11 years is 2104.8519522998363 dollars\n",
      "The desposit amount after 12 years is 2252.191588960825 dollars\n",
      "The desposit amount after 13 years is 2409.845000188083 dollars\n",
      "The desposit amount after 14 years is 2578.534150201249 dollars\n",
      "The desposit amount after 15 years is 2759.031540715336 dollars\n",
      "The desposit amount after 16 years is 2952.16374856541 dollars\n",
      "The desposit amount after 17 years is 3158.8152109649886 dollars\n",
      "The desposit amount after 18 years is 3379.932275732538 dollars\n",
      "The desposit amount after 19 years is 3616.5275350338165 dollars\n",
      "The desposit amount after 20 years is 3869.6844624861833 dollars\n",
      "The desposit amount after 21 years is 4140.562374860217 dollars\n",
      "The desposit amount after 22 years is 4430.401741100432 dollars\n",
      "The desposit amount after 23 years is 4740.5298629774625 dollars\n",
      "The desposit amount after 24 years is 5072.366953385886 dollars\n",
      "The desposit amount after 25 years is 5427.432640122897 dollars\n",
      "The desposit amount after 26 years is 5807.352924931501 dollars\n",
      "The desposit amount after 27 years is 6213.867629676706 dollars\n",
      "The desposit amount after 28 years is 6648.838363754076 dollars\n",
      "The desposit amount after 29 years is 7114.257049216862 dollars\n",
      "The desposit amount after 30 years is 7612.255042662042 dollars\n"
     ]
    }
   ],
   "source": [
    "# Initialize parameters\n",
    "p = 1000\n",
    "r = 0.07\n",
    "\n",
    "# Create the array of n values in n_t\n",
    "n_t = range(1,31)\n",
    "\n",
    "for n in n_t:\n",
    "    a = p*(1 + r)**n\n",
    "    print('The desposit amount after', n, 'years is', a, 'dollars')\n",
    "\n"
   ]
  },
  {
   "cell_type": "markdown",
   "id": "b1ff9875-e3af-4fd3-9187-67c50a62a648",
   "metadata": {},
   "source": [
    "## 3.17 Nested Loops\n",
    "In this question I utilized nested for loops to print out certain asterisks patterns. The basic pattern was to iterate through a dataset 10 times. The key is to have the dataset values either increase by 1: ex (1,2,3,4...,9,10) or decrase by 1: ex (10,9,8...,2,1). Based on this template pattern, I added complexity regarding initial spaces for patterns C and D.  \n"
   ]
  },
  {
   "cell_type": "code",
   "execution_count": 80,
   "id": "f93cbab3-3a9d-4baa-9923-3780d212a098",
   "metadata": {},
   "outputs": [
    {
     "name": "stdout",
     "output_type": "stream",
     "text": [
      "*\n",
      "**\n",
      "***\n",
      "****\n",
      "*****\n",
      "******\n",
      "*******\n",
      "********\n",
      "*********\n",
      "**********\n"
     ]
    }
   ],
   "source": [
    "# Pattern A\n",
    "\n",
    "# initialize i array\n",
    "i = [1,2,3,4,5,6,7,8,9,10]\n",
    "\n",
    "#Create 1st for loop that iterates between all values 1 to 10 in i\n",
    "for it in i:\n",
    "    \n",
    "    for n in range(it): #based on the value in array i, the amount of asteriks to print is decided\n",
    "        \n",
    "        print('*', end = '')\n",
    "        \n",
    "    print()              \n",
    "\n",
    "\n",
    "\n",
    "\n",
    "    \n"
   ]
  },
  {
   "cell_type": "code",
   "execution_count": 82,
   "id": "90a11842-5fd6-4d15-a5ff-2aeb491c22c2",
   "metadata": {},
   "outputs": [
    {
     "name": "stdout",
     "output_type": "stream",
     "text": [
      "**********\n",
      "*********\n",
      "********\n",
      "*******\n",
      "******\n",
      "*****\n",
      "****\n",
      "***\n",
      "**\n",
      "*\n"
     ]
    }
   ],
   "source": [
    "# Pattern B\n",
    "\n",
    "# initialize I array\n",
    "# \"reversed\" the values in the i array from Pattern A to create desired shape \n",
    "i = [10,9,8,7,6,5,4,3,2,1]\n",
    "\n",
    "#Create 1st for loop that iterates between all values 10 to 1 in i\n",
    "for it in i:\n",
    "    \n",
    "    for n in range(it): #based on the value in array i, the amount of asterisks to print is decided\n",
    "        \n",
    "        print('*', end = '')\n",
    "        \n",
    "    print()              "
   ]
  },
  {
   "cell_type": "code",
   "execution_count": 136,
   "id": "da08f2a4-753c-4781-960b-b10975d68008",
   "metadata": {},
   "outputs": [
    {
     "name": "stdout",
     "output_type": "stream",
     "text": [
      "**********\n",
      " *********\n",
      "  ********\n",
      "   *******\n",
      "    ******\n",
      "     *****\n",
      "      ****\n",
      "       ***\n",
      "        **\n",
      "         *\n"
     ]
    }
   ],
   "source": [
    "# Pattern C\n",
    "\n",
    "#Create i array\n",
    "i = [10,9,8,7,6,5,4,3,2,1]\n",
    "\n",
    "#Create 1st for loop that iterates between all values 10 to 1 in i\n",
    "for it in i:\n",
    "    \n",
    "    for s_c in range(10-it): #the amount of \"zero spaces\" increases from 0 to 9, increasing by 1 every iteration (10 total)\n",
    "            print(' ', end='' )\n",
    "        \n",
    "    for n in range(it): #based on the value in array i, the amount of asterisks to print is decided\n",
    "        print('*', end ='')\n",
    "            \n",
    "    print()      "
   ]
  },
  {
   "cell_type": "code",
   "execution_count": 140,
   "id": "72968663-a7e5-4d1f-b925-bb62e1bd15da",
   "metadata": {},
   "outputs": [
    {
     "name": "stdout",
     "output_type": "stream",
     "text": [
      "         *\n",
      "        **\n",
      "       ***\n",
      "      ****\n",
      "     *****\n",
      "    ******\n",
      "   *******\n",
      "  ********\n",
      " *********\n",
      "**********\n"
     ]
    }
   ],
   "source": [
    "# Pattern D\n",
    "\n",
    "# I array is the reversed from Part C as asterisks increase from 1 to 10 every iteration\n",
    "i = [1,2,3,4,5,6,7,8,9,10]\n",
    "\n",
    "#Create 1st for loop that iterates between all values 10 to 1 in i\n",
    "for it in i:\n",
    "    \n",
    "    for s_c in range(10-it): # The amount of spaces before asterisks is calculated by 10 - it. decreasing\n",
    "            print(' ', end='' )\n",
    "        \n",
    "    for n in range(it): #based on the value in array i, the amount of asteriks to print is decided\n",
    "        print('*', end = '')\n",
    "            \n",
    "    print()    \n"
   ]
  },
  {
   "cell_type": "markdown",
   "id": "6ad9b473-1f73-48ae-9074-e1404fa8668f",
   "metadata": {},
   "source": [
    "## 3.26 Data Science Research: Anscombes's Quartet\n",
    "The main thing that I learned regarding Anscombe's Quartet was the reinforcement of the principle: \"Correlation is not caustation\". Anscombes Quartet reminded me of this as the 4 datasets based on descriptive statistics (linear regression eqn, std deviation, mean values) should be the same but are not. This is because similar to the principle of \"correlation is not causation\", trends and insights from data need to be scrutined beyond face value. In conclusion, in this age of mass data and generative AI, Anscombes Quartet reminds me to scrutinze data, and be wary of generalizations at face value.\n"
   ]
  },
  {
   "cell_type": "markdown",
   "id": "be2b22a1-f164-4e47-8c5a-35281ac5ead0",
   "metadata": {},
   "source": [
    "## 3.31 Data Science: Categorical Data\n",
    "The descriptive statistic I believe that can be useful for categorical variables is mode. Mode is useful because just as in a quantatative dataset, the categorical variable that shows up the most in a dataset can be useful in describing the dataset. For instance if we had a dataset of all dogs available in the USA, wouldn't the dog type most available be a good statistic to have? The other two descriptive statistics dont make too much sense to me. First of all, the mean of categorical values makes no sense at all. Similarly, the median categorical value of a dataset makes no sense unless the categorical dataset is structured in a time dependent manner. "
   ]
  }
 ],
 "metadata": {
  "kernelspec": {
   "display_name": "Python 3 (ipykernel)",
   "language": "python",
   "name": "python3"
  },
  "language_info": {
   "codemirror_mode": {
    "name": "ipython",
    "version": 3
   },
   "file_extension": ".py",
   "mimetype": "text/x-python",
   "name": "python",
   "nbconvert_exporter": "python",
   "pygments_lexer": "ipython3",
   "version": "3.12.3"
  }
 },
 "nbformat": 4,
 "nbformat_minor": 5
}
