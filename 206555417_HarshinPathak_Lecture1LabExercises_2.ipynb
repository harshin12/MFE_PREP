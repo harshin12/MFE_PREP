{
 "cells": [
  {
   "cell_type": "markdown",
   "id": "0fc3d0aa-0d74-4dab-a140-a4a1194b98e7",
   "metadata": {},
   "source": [
    "# Lecture 1 Lab Exercises\n",
    "* Harshin Pathak\n",
    "* Self Assesment:\n",
    "Overall these exercises were pretty straightforward for me. I have some Pyhton experience and classify myself as an advanced beginner so all of this was review. I will say that question 2.10 took me quite some extra time. This is because I defined \"int\" as an integer earlier in the notebook so once I tried utilizing the int() function python was throwing up an error signal. Once I renamed the int variable to something else everything worked fine relating to 2.10.  "
   ]
  },
  {
   "cell_type": "markdown",
   "id": "0952f313-e312-4e91-9616-8072ed8ffc70",
   "metadata": {},
   "source": [
    "## Exercise 2.1: What does this code do?\n",
    "In this question, I first created the variables x and y. Next, I created and ran the 4 print statements indicated by the problem "
   ]
  },
  {
   "cell_type": "code",
   "execution_count": null,
   "id": "438b9979-c85c-45fe-88c7-9add834d2d98",
   "metadata": {},
   "outputs": [],
   "source": [
    "x = 2\n",
    "y = 3\n",
    "\n",
    "# Part a\n",
    "print('x =',x)"
   ]
  },
  {
   "cell_type": "code",
   "execution_count": null,
   "id": "8f0e4b2b-1f08-4dbe-a874-796a06a0ecac",
   "metadata": {},
   "outputs": [],
   "source": [
    "# Part b\n",
    "print('Value of',x,'+',x,'is', (x+x))"
   ]
  },
  {
   "cell_type": "code",
   "execution_count": null,
   "id": "66f2a31d-ecca-479e-b907-e86a17f4ea6b",
   "metadata": {},
   "outputs": [],
   "source": [
    "# Part c\n",
    "print('x =')"
   ]
  },
  {
   "cell_type": "code",
   "execution_count": null,
   "id": "952fd30d-1b6d-442e-9f7f-1ca82767cec6",
   "metadata": {},
   "outputs": [],
   "source": [
    "# Part d\n",
    "print((x + y),'=', (y + x))"
   ]
  },
  {
   "cell_type": "markdown",
   "id": "873f0f47-41be-4292-b581-73ab3e844790",
   "metadata": {},
   "source": [
    "## Exercise 2.2: What is wrong with this code?\n",
    "\n",
    "In this question, I studied the line of code to see what was wrong. I then proceeded to hopefully document and fix the issue correctly. The edit I made to fix the code was to add the int() function to what was being defined as \"rating\". Thus the string '2' was converted to an integer.\n"
   ]
  },
  {
   "cell_type": "code",
   "execution_count": 3,
   "id": "f7490ec1-9535-40aa-a2d2-836bfe5b04a4",
   "metadata": {},
   "outputs": [
    {
     "name": "stdin",
     "output_type": "stream",
     "text": [
      "Enter an integer rating between 1 and 10 2\n"
     ]
    }
   ],
   "source": [
    "rating = (input('Enter an integer rating between 1 and 10'))"
   ]
  },
  {
   "cell_type": "code",
   "execution_count": 5,
   "id": "dc762825-bb4d-46fc-81c2-a1c203030d55",
   "metadata": {},
   "outputs": [
    {
     "data": {
      "text/plain": [
       "'2'"
      ]
     },
     "execution_count": 5,
     "metadata": {},
     "output_type": "execute_result"
    }
   ],
   "source": [
    "rating"
   ]
  },
  {
   "cell_type": "markdown",
   "id": "3834c1b0-3768-4c90-9193-b29a8bd8bb20",
   "metadata": {},
   "source": [
    "The problem states that the line of code creating the variable \"rating\" should be an integer. However, the issue with the code is that \"rating\" is defined as a string. To fix the issue, we need to convert the string into an integer.\n",
    "\n",
    "The corrected code is shown below"
   ]
  },
  {
   "cell_type": "code",
   "execution_count": 7,
   "id": "d6bbed8a-06bd-48b5-891c-ee86774c41df",
   "metadata": {},
   "outputs": [
    {
     "name": "stdin",
     "output_type": "stream",
     "text": [
      "Enter an integer rating between 1 and 10 2\n"
     ]
    }
   ],
   "source": [
    "rating = int((input('Enter an integer rating between 1 and 10')))"
   ]
  },
  {
   "cell_type": "code",
   "execution_count": 9,
   "id": "a2b17903-830f-46e6-a308-8c1f0dcd389c",
   "metadata": {},
   "outputs": [
    {
     "data": {
      "text/plain": [
       "2"
      ]
     },
     "execution_count": 9,
     "metadata": {},
     "output_type": "execute_result"
    }
   ],
   "source": [
    "rating"
   ]
  },
  {
   "cell_type": "markdown",
   "id": "d153966b-10f7-4885-97bd-d8f851396244",
   "metadata": {},
   "source": [
    "## Exercise 2.3: Fill in the missing code\n",
    "To solve this question I looked at the if statement example from the fig02_02.py script to fill in the missing code. The missing code was a print statement with the embedded variable, grade."
   ]
  },
  {
   "cell_type": "code",
   "execution_count": null,
   "id": "99f2f198-2887-49d8-a566-faf3e27e3765",
   "metadata": {},
   "outputs": [],
   "source": [
    "grade = 90\n",
    "\n",
    "if grade >= 90:\n",
    "    print(\"Congratulations! Your grade of\", grade, \"earns you an A in this course\")"
   ]
  },
  {
   "cell_type": "markdown",
   "id": "dffa5c11-4fc9-442b-89e1-3730f5a68604",
   "metadata": {},
   "source": [
    "## Exercise 2.4: Arithmetic\n",
    "I followed the instructions in the question to create 6 lines of code with different arithmetic operators"
   ]
  },
  {
   "cell_type": "code",
   "execution_count": null,
   "id": "4a5d43a0-351b-4931-8d85-3ccd9eaa62a6",
   "metadata": {},
   "outputs": [],
   "source": [
    "add = 27.5 + 2\n",
    "add"
   ]
  },
  {
   "cell_type": "code",
   "execution_count": null,
   "id": "00da8c9b-7d8e-4f64-913b-dbfe1973b25d",
   "metadata": {},
   "outputs": [],
   "source": [
    "sub = 27.5 - 2\n",
    "sub"
   ]
  },
  {
   "cell_type": "code",
   "execution_count": null,
   "id": "39650778-4e7f-475f-9102-5d78731358d8",
   "metadata": {},
   "outputs": [],
   "source": [
    "mult = 27.5 * 2\n",
    "mult"
   ]
  },
  {
   "cell_type": "code",
   "execution_count": null,
   "id": "0a464c8d-0f5c-47c5-9bd0-907beb537b84",
   "metadata": {},
   "outputs": [],
   "source": [
    "div = 27.5 / 2\n",
    "div"
   ]
  },
  {
   "cell_type": "code",
   "execution_count": null,
   "id": "5d0bcb15-825d-40b9-99cf-bdd5d3671f05",
   "metadata": {},
   "outputs": [],
   "source": [
    "div2 = 27.5 // 2\n",
    "div2"
   ]
  },
  {
   "cell_type": "markdown",
   "id": "f2267904-334c-4c84-91e8-5b4c93b2b30f",
   "metadata": {},
   "source": [
    "## Exercise 2.5: Circle Area, Diameter and Circumference\n",
    "In this exercise I translated the formulas stated into python formulas and executed the calculations"
   ]
  },
  {
   "cell_type": "code",
   "execution_count": null,
   "id": "924124cd-b043-448f-927d-da55f11b8476",
   "metadata": {},
   "outputs": [],
   "source": [
    "r = 2\n",
    "pi = 3.14159\n",
    "\n",
    "diameter = 2 * r\n",
    "print('Diameter =', diameter)\n",
    "\n",
    "circumference = 2 * pi * r\n",
    "print('circumference =', circumference)\n",
    "\n",
    "area = pi * r ** 2\n",
    "print('area =',area)\n",
    "\n"
   ]
  },
  {
   "cell_type": "markdown",
   "id": "293dcebb-66d3-48df-87ad-9c528bd88be6",
   "metadata": {},
   "source": [
    "## Exercise 2.6: Odd or Even\n",
    "In this question, I used if statements to classify an integer as even or odd. If the integer divided by 2 did not have a remainder, the integer was called even. However, If the integer divided by 2 had a remainder, it was called odd."
   ]
  },
  {
   "cell_type": "code",
   "execution_count": null,
   "id": "c40cfc93-59fb-4552-9679-b52ab24b197d",
   "metadata": {},
   "outputs": [],
   "source": [
    "int2 = 24\n",
    "\n",
    "if int2 % 2 == 0:\n",
    "    print('The Integer', int, 'is even')\n",
    "if int2 % 2 != 0:\n",
    "    print('The Integer', int, 'is odd')\n"
   ]
  },
  {
   "cell_type": "markdown",
   "id": "e566a9d1-bc50-42fd-9282-36f5e42d1a43",
   "metadata": {},
   "source": [
    "## Exercise 2.7: Multiples\n",
    "In this question, I used the remainder operator to see if 1024 was a multiple of 4 and if 2 was a miltiple of 10. Since there was no remainder when dividing 1024 by 4, we could say 1024 is a multiple of 4. Similarly, since 2 divided by 10 is not a whole number, 2 is not a multiple of 10"
   ]
  },
  {
   "cell_type": "code",
   "execution_count": null,
   "id": "614d153a-5450-4896-889c-28a5a2b50d1e",
   "metadata": {},
   "outputs": [],
   "source": [
    "val = 1024\n",
    "if val % 4 == 0:\n",
    "    print('4 goes into', val, 'a whole number amount of times so', val, 'is a multiple of 4')\n",
    "if val % 4 != 0:\n",
    "    print('4 goes into', val, 'not a whole number amount of times so', Val, 'is not a multiple of 4')"
   ]
  },
  {
   "cell_type": "code",
   "execution_count": null,
   "id": "6d5789c6-0287-42cd-830a-14ad936a3d5a",
   "metadata": {},
   "outputs": [],
   "source": [
    "val2 = 2\n",
    "if val2 % 10 == 0:\n",
    "    print('10 goes into', val2, 'a whole number amount of times so', val2, 'is a multiple of 4')\n",
    "if val2 % 10 != 0:\n",
    "    print('10 goes into', val2, 'not a whole number amount of times so', val2, 'is not a multiple of 10')"
   ]
  },
  {
   "cell_type": "markdown",
   "id": "ffeee541-dbbe-4ddb-97c2-dd700078b056",
   "metadata": {},
   "source": [
    "## Exercise 2.10: Arithmetic, Smallest and Largest\n",
    "For this question I created 3 user input variables v1, v2, and v3 which were converted from string to integer. Next, I calculated the sum, mean, product, min, and max of the set of the three integers as specified by the problem. All relevant integers and calculations were outputted. \n"
   ]
  },
  {
   "cell_type": "code",
   "execution_count": 11,
   "id": "6f25a104-3798-41bc-b20e-716ed71c5e0e",
   "metadata": {},
   "outputs": [
    {
     "name": "stdin",
     "output_type": "stream",
     "text": [
      "Type an integer: 100\n",
      "Type an integer: 200\n",
      "Type an integer: 300\n"
     ]
    },
    {
     "name": "stdout",
     "output_type": "stream",
     "text": [
      "The sum of the three integers is 600\n",
      "The mean of the three integers is 200.0\n",
      "The product of the three integers is 6000000\n",
      "The minimum of the three integers is 100\n",
      "The maximum of the three integers is 300\n"
     ]
    }
   ],
   "source": [
    "v1 = int(input('Type an integer:'))\n",
    "v2 = int(input('Type an integer:'))\n",
    "v3 = int(input('Type an integer:'))\n",
    "\n",
    "v_sum = v1 + v2 + v3\n",
    "print('The sum of the three integers is', v_sum) \n",
    "\n",
    "v_mean = (v1 + v2 + v3) / 3\n",
    "print('The mean of the three integers is', v_mean)\n",
    "\n",
    "v_prod = (v1 * v2 * v3)\n",
    "print('The product of the three integers is', v_prod)\n",
    "\n",
    "v_min = min(v1, v2, v3)\n",
    "print('The minimum of the three integers is', v_min)\n",
    "\n",
    "v_max = max(v1, v2, v3)\n",
    "print('The maximum of the three integers is', v_max)\n",
    "\n",
    "\n"
   ]
  },
  {
   "cell_type": "markdown",
   "id": "11787277-fd01-4172-b2c3-2c192bf8f977",
   "metadata": {},
   "source": [
    "## Exercise 2.12: 7% Investent return\n",
    "To solve this question, I created the variables outlined in the question: p, r, n, and a. However, 3 n values and 3 a values were defined as our solution will have a different n and a value for years 10, 20, and 30. "
   ]
  },
  {
   "cell_type": "code",
   "execution_count": 19,
   "id": "e58840ca-e06a-4402-9509-e5bea8579626",
   "metadata": {},
   "outputs": [
    {
     "name": "stdout",
     "output_type": "stream",
     "text": [
      "The desposit amount after 10 years is 1967.1513572895665 dollars\n",
      "The deposit amount after 20 years is 3869.6844624861833 dollars\n",
      "The deposit amount after 30 years is 7612.255042662042 dollars\n"
     ]
    }
   ],
   "source": [
    "p = 1000\n",
    "r = 0.07\n",
    "n1 = 10\n",
    "n2 = 20\n",
    "n3 = 30\n",
    "\n",
    "a1 = p*(1 + r)**n1\n",
    "print('The desposit amount after', n1, 'years is', a1, 'dollars')\n",
    "\n",
    "a2 = p*(1 + r)**n2\n",
    "print('The deposit amount after', n2, 'years is', a2, 'dollars')\n",
    "\n",
    "a3 = p*(1 + r)**n3\n",
    "print('The deposit amount after', n3, 'years is', a3, 'dollars')"
   ]
  },
  {
   "cell_type": "markdown",
   "id": "62fc6ce4-8997-4135-9f62-9e314dcd0023",
   "metadata": {},
   "source": [
    "## Exercise 2.13: How big can Python Integers Be?\n",
    "To answer this question, I just raised 10 to the power of 10, 100, 1000, 10000 and then finally 4299. Whilst testing 10^10000 I found an error code saying that 4300 digits is the biggest an integer could be in python!\n"
   ]
  },
  {
   "cell_type": "code",
   "execution_count": 34,
   "id": "e7a572cf-dbe8-4190-af1f-b0c720f37669",
   "metadata": {},
   "outputs": [
    {
     "data": {
      "text/plain": [
       "10000000000"
      ]
     },
     "execution_count": 34,
     "metadata": {},
     "output_type": "execute_result"
    }
   ],
   "source": [
    "test1 = 10 ** 10\n",
    "test1\n"
   ]
  },
  {
   "cell_type": "code",
   "execution_count": 36,
   "id": "aa922bfd-da19-460f-b160-cc13488ac1b9",
   "metadata": {},
   "outputs": [
    {
     "data": {
      "text/plain": [
       "10000000000000000000000000000000000000000000000000000000000000000000000000000000000000000000000000000"
      ]
     },
     "execution_count": 36,
     "metadata": {},
     "output_type": "execute_result"
    }
   ],
   "source": [
    "test2 = 10 ** 100\n",
    "test2"
   ]
  },
  {
   "cell_type": "code",
   "execution_count": 38,
   "id": "61b7ef5b-50b4-4879-81ab-0dfb1abe2d0d",
   "metadata": {},
   "outputs": [
    {
     "data": {
      "text/plain": [
       "10000000000000000000000000000000000000000000000000000000000000000000000000000000000000000000000000000000000000000000000000000000000000000000000000000000000000000000000000000000000000000000000000000000000000000000000000000000000000000000000000000000000000000000000000000000000000000000000000000000000000000000000000000000000000000000000000000000000000000000000000000000000000000000000000000000000000000000000000000000000000000000000000000000000000000000000000000000000000000000000000000000000000000000000000000000000000000000000000000000000000000000000000000000000000000000000000000000000000000000000000000000000000000000000000000000000000000000000000000000000000000000000000000000000000000000000000000000000000000000000000000000000000000000000000000000000000000000000000000000000000000000000000000000000000000000000000000000000000000000000000000000000000000000000000000000000000000000000000000000000000000000000000000000000000000000000000000000000000000000000000000000000000000000000000000000000000000"
      ]
     },
     "execution_count": 38,
     "metadata": {},
     "output_type": "execute_result"
    }
   ],
   "source": [
    "test3 = 10 ** 1000\n",
    "test3"
   ]
  },
  {
   "cell_type": "code",
   "execution_count": 49,
   "id": "1018ad4c-e93a-4581-a7b4-996a5ca032f3",
   "metadata": {},
   "outputs": [
    {
     "ename": "ValueError",
     "evalue": "Exceeds the limit (4300 digits) for integer string conversion; use sys.set_int_max_str_digits() to increase the limit",
     "output_type": "error",
     "traceback": [
      "\u001b[1;31m---------------------------------------------------------------------------\u001b[0m",
      "\u001b[1;31mValueError\u001b[0m                                Traceback (most recent call last)",
      "File \u001b[1;32m~\\anaconda3\\Lib\\site-packages\\IPython\\core\\formatters.py:711\u001b[0m, in \u001b[0;36mPlainTextFormatter.__call__\u001b[1;34m(self, obj)\u001b[0m\n\u001b[0;32m    704\u001b[0m stream \u001b[38;5;241m=\u001b[39m StringIO()\n\u001b[0;32m    705\u001b[0m printer \u001b[38;5;241m=\u001b[39m pretty\u001b[38;5;241m.\u001b[39mRepresentationPrinter(stream, \u001b[38;5;28mself\u001b[39m\u001b[38;5;241m.\u001b[39mverbose,\n\u001b[0;32m    706\u001b[0m     \u001b[38;5;28mself\u001b[39m\u001b[38;5;241m.\u001b[39mmax_width, \u001b[38;5;28mself\u001b[39m\u001b[38;5;241m.\u001b[39mnewline,\n\u001b[0;32m    707\u001b[0m     max_seq_length\u001b[38;5;241m=\u001b[39m\u001b[38;5;28mself\u001b[39m\u001b[38;5;241m.\u001b[39mmax_seq_length,\n\u001b[0;32m    708\u001b[0m     singleton_pprinters\u001b[38;5;241m=\u001b[39m\u001b[38;5;28mself\u001b[39m\u001b[38;5;241m.\u001b[39msingleton_printers,\n\u001b[0;32m    709\u001b[0m     type_pprinters\u001b[38;5;241m=\u001b[39m\u001b[38;5;28mself\u001b[39m\u001b[38;5;241m.\u001b[39mtype_printers,\n\u001b[0;32m    710\u001b[0m     deferred_pprinters\u001b[38;5;241m=\u001b[39m\u001b[38;5;28mself\u001b[39m\u001b[38;5;241m.\u001b[39mdeferred_printers)\n\u001b[1;32m--> 711\u001b[0m printer\u001b[38;5;241m.\u001b[39mpretty(obj)\n\u001b[0;32m    712\u001b[0m printer\u001b[38;5;241m.\u001b[39mflush()\n\u001b[0;32m    713\u001b[0m \u001b[38;5;28;01mreturn\u001b[39;00m stream\u001b[38;5;241m.\u001b[39mgetvalue()\n",
      "File \u001b[1;32m~\\anaconda3\\Lib\\site-packages\\IPython\\lib\\pretty.py:394\u001b[0m, in \u001b[0;36mRepresentationPrinter.pretty\u001b[1;34m(self, obj)\u001b[0m\n\u001b[0;32m    391\u001b[0m \u001b[38;5;28;01mfor\u001b[39;00m \u001b[38;5;28mcls\u001b[39m \u001b[38;5;129;01min\u001b[39;00m _get_mro(obj_class):\n\u001b[0;32m    392\u001b[0m     \u001b[38;5;28;01mif\u001b[39;00m \u001b[38;5;28mcls\u001b[39m \u001b[38;5;129;01min\u001b[39;00m \u001b[38;5;28mself\u001b[39m\u001b[38;5;241m.\u001b[39mtype_pprinters:\n\u001b[0;32m    393\u001b[0m         \u001b[38;5;66;03m# printer registered in self.type_pprinters\u001b[39;00m\n\u001b[1;32m--> 394\u001b[0m         \u001b[38;5;28;01mreturn\u001b[39;00m \u001b[38;5;28mself\u001b[39m\u001b[38;5;241m.\u001b[39mtype_pprinters[\u001b[38;5;28mcls\u001b[39m](obj, \u001b[38;5;28mself\u001b[39m, cycle)\n\u001b[0;32m    395\u001b[0m     \u001b[38;5;28;01melse\u001b[39;00m:\n\u001b[0;32m    396\u001b[0m         \u001b[38;5;66;03m# deferred printer\u001b[39;00m\n\u001b[0;32m    397\u001b[0m         printer \u001b[38;5;241m=\u001b[39m \u001b[38;5;28mself\u001b[39m\u001b[38;5;241m.\u001b[39m_in_deferred_types(\u001b[38;5;28mcls\u001b[39m)\n",
      "File \u001b[1;32m~\\anaconda3\\Lib\\site-packages\\IPython\\lib\\pretty.py:779\u001b[0m, in \u001b[0;36m_repr_pprint\u001b[1;34m(obj, p, cycle)\u001b[0m\n\u001b[0;32m    777\u001b[0m \u001b[38;5;250m\u001b[39m\u001b[38;5;124;03m\"\"\"A pprint that just redirects to the normal repr function.\"\"\"\u001b[39;00m\n\u001b[0;32m    778\u001b[0m \u001b[38;5;66;03m# Find newlines and replace them with p.break_()\u001b[39;00m\n\u001b[1;32m--> 779\u001b[0m output \u001b[38;5;241m=\u001b[39m \u001b[38;5;28mrepr\u001b[39m(obj)\n\u001b[0;32m    780\u001b[0m lines \u001b[38;5;241m=\u001b[39m output\u001b[38;5;241m.\u001b[39msplitlines()\n\u001b[0;32m    781\u001b[0m \u001b[38;5;28;01mwith\u001b[39;00m p\u001b[38;5;241m.\u001b[39mgroup():\n",
      "\u001b[1;31mValueError\u001b[0m: Exceeds the limit (4300 digits) for integer string conversion; use sys.set_int_max_str_digits() to increase the limit"
     ]
    }
   ],
   "source": [
    "test4 = 10 ** 10000\n",
    "test4"
   ]
  },
  {
   "cell_type": "code",
   "execution_count": 46,
   "id": "324d676d-e6d4-42da-809f-5eb0cf4a7ce4",
   "metadata": {},
   "outputs": [
    {
     "data": {
      "text/plain": [
       "1000000000000000000000000000000000000000000000000000000000000000000000000000000000000000000000000000000000000000000000000000000000000000000000000000000000000000000000000000000000000000000000000000000000000000000000000000000000000000000000000000000000000000000000000000000000000000000000000000000000000000000000000000000000000000000000000000000000000000000000000000000000000000000000000000000000000000000000000000000000000000000000000000000000000000000000000000000000000000000000000000000000000000000000000000000000000000000000000000000000000000000000000000000000000000000000000000000000000000000000000000000000000000000000000000000000000000000000000000000000000000000000000000000000000000000000000000000000000000000000000000000000000000000000000000000000000000000000000000000000000000000000000000000000000000000000000000000000000000000000000000000000000000000000000000000000000000000000000000000000000000000000000000000000000000000000000000000000000000000000000000000000000000000000000000000000000000000000000000000000000000000000000000000000000000000000000000000000000000000000000000000000000000000000000000000000000000000000000000000000000000000000000000000000000000000000000000000000000000000000000000000000000000000000000000000000000000000000000000000000000000000000000000000000000000000000000000000000000000000000000000000000000000000000000000000000000000000000000000000000000000000000000000000000000000000000000000000000000000000000000000000000000000000000000000000000000000000000000000000000000000000000000000000000000000000000000000000000000000000000000000000000000000000000000000000000000000000000000000000000000000000000000000000000000000000000000000000000000000000000000000000000000000000000000000000000000000000000000000000000000000000000000000000000000000000000000000000000000000000000000000000000000000000000000000000000000000000000000000000000000000000000000000000000000000000000000000000000000000000000000000000000000000000000000000000000000000000000000000000000000000000000000000000000000000000000000000000000000000000000000000000000000000000000000000000000000000000000000000000000000000000000000000000000000000000000000000000000000000000000000000000000000000000000000000000000000000000000000000000000000000000000000000000000000000000000000000000000000000000000000000000000000000000000000000000000000000000000000000000000000000000000000000000000000000000000000000000000000000000000000000000000000000000000000000000000000000000000000000000000000000000000000000000000000000000000000000000000000000000000000000000000000000000000000000000000000000000000000000000000000000000000000000000000000000000000000000000000000000000000000000000000000000000000000000000000000000000000000000000000000000000000000000000000000000000000000000000000000000000000000000000000000000000000000000000000000000000000000000000000000000000000000000000000000000000000000000000000000000000000000000000000000000000000000000000000000000000000000000000000000000000000000000000000000000000000000000000000000000000000000000000000000000000000000000000000000000000000000000000000000000000000000000000000000000000000000000000000000000000000000000000000000000000000000000000000000000000000000000000000000000000000000000000000000000000000000000000000000000000000000000000000000000000000000000000000000000000000000000000000000000000000000000000000000000000000000000000000000000000000000000000000000000000000000000000000000000000000000000000000000000000000000000000000000000000000000000000000000000000000000000000000000000000000000000000000000000000000000000000000000000000000000000000000000000000000000000000000000000000000000000000000000000000000000000000000000000000000000000000000000000000000000000000000000000000000000000000000000000000000000000000000000000000000000000000000000000000000000000000000000000000000000000000000000000000000000000000000000000000000000000000000000000000000000000000000000000000000000000000000000000000000000000000000000000000000000000000000000000000000000000000000000000000000000000000000000000000000000000000000000000000000000000000000000000000000000000000000000000000000000000000000000000000000000000000000000000000000000000000000000000000000000000000000000000000000000000000000000000000000000000000000000000000000000000000000000000000000000000000000000000000000000000000000000000000000000000"
      ]
     },
     "execution_count": 46,
     "metadata": {},
     "output_type": "execute_result"
    }
   ],
   "source": [
    "test5 = 10 ** 4299\n",
    "test5"
   ]
  },
  {
   "cell_type": "markdown",
   "id": "8d6215c3-583c-4a7a-9600-51c504666054",
   "metadata": {},
   "source": [
    "### Thoughts on this question\n",
    "   To be honest this question was interesting to me regarding the highest number of digits a python integer could be. My initial thought was this question is kinda nonsense as from a practical point of view as a \"finance\" question the absolute highest number we could deal with would be the value of all the assets and money in the world which seems to be a 500 trillion dollar mark (being extrememly generous here). The value of 500 trillion has 15 digits meaning any value in python over 15 digits sees \"overkill\". However, after testing 10^10000, an error message turned up with the limit seeming to be 4300 digits. I have no idea how this 4300 limit was made but I am confident that it is overkill for 99.9% of python users!"
   ]
  }
 ],
 "metadata": {
  "kernelspec": {
   "display_name": "Python 3 (ipykernel)",
   "language": "python",
   "name": "python3"
  },
  "language_info": {
   "codemirror_mode": {
    "name": "ipython",
    "version": 3
   },
   "file_extension": ".py",
   "mimetype": "text/x-python",
   "name": "python",
   "nbconvert_exporter": "python",
   "pygments_lexer": "ipython3",
   "version": "3.12.3"
  }
 },
 "nbformat": 4,
 "nbformat_minor": 5
}
