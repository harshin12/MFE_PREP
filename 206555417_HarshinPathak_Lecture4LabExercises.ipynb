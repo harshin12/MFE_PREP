{
 "cells": [
  {
   "cell_type": "markdown",
   "id": "cccaeb5f-496c-428f-bb04-4409e3d7df5d",
   "metadata": {},
   "source": [
    "# Lecture 4 Lab Exerices\n",
    "* Harshin Pathak\n",
    "* Self Assesment:\n",
    "  Overall, this assignment was pretty helpful. Question 6.6) took me quite some time as I am not too comfortable with working with strings! I believe this is because I have never really worked with a list of strings in the past at all. I will say that its great to get more practice regarding creating functions that have loops and list comprehension principles. The last three questions were pretty straightforward. I did refer back to the textbook to solve those questions just to get a template for the solution. I will say 7.9) was \"enjoyable\" in a sense that I have a decent amount of experience with indexing and slicing arrays on Matlab through previous internship experience as an engineer. As a result, that is something I feel very comfortable with but I still want to improve!"
   ]
  },
  {
   "cell_type": "markdown",
   "id": "ac4f48c2-1fbd-4b11-ac50-45e949077ce6",
   "metadata": {},
   "source": [
    "## 6.6) Data Science: Duplicate Word Removal\n",
    "In this question, I created a function that removed duplicates from an array of words, and sorted them in alphabetical order. I first initiated a function with \"inputlist\" being a list of words. Next I created an empty list that would be filled with exclusive words from \"inputlist\" called \"exclusive_list\". Once all values from \"inputlist\" were compared with values from \"exclusive_list\", \"exclusive_list\" was sorted by alphabetical order creating our resultant: \"sorted_list\". Values from \"sorted_list\" were then outputted one by one.\n"
   ]
  },
  {
   "cell_type": "code",
   "execution_count": 84,
   "id": "9a771b26-4e5b-4697-9d73-91a0e2d7f5ab",
   "metadata": {},
   "outputs": [],
   "source": [
    "\n",
    "# Initiate function with \"inputlist\" being a list of words\n",
    "def data_wrangle(inputlist):\n",
    "\n",
    "    # Create an empty list that will be filled with exclusive words from \"inputlist\"\n",
    "    exclusive_list = []\n",
    "\n",
    "    # For every word in inputlist, covert said word into lowercase\n",
    "    for word in inputlist:\n",
    "        \n",
    "        word = word.lower()\n",
    "\n",
    "        # Add all exclusive words to the list \"exclusive list\"\n",
    "        if word not in exclusive_list:\n",
    "            \n",
    "            exclusive_list.append(word)\n",
    "\n",
    "    # \"sorted_list\" is \"exclusive_list\" in alphabetical order\n",
    "    sorted_list = sorted(exclusive_list)\n",
    "\n",
    "    # print every unique word in alphabetical order with one word per line\n",
    "    for word in sorted_list:\n",
    "        \n",
    "        print(f\"{word}\")\n",
    "       \n",
    "    # Return \"sorted_list\" if needed\n",
    "    return sorted_list\n",
    "    \n",
    "\n",
    "    \n",
    "        \n",
    "    "
   ]
  },
  {
   "cell_type": "code",
   "execution_count": 108,
   "id": "6100a03d-d4af-4f5a-a7b3-5288bf4af86e",
   "metadata": {},
   "outputs": [
    {
     "name": "stdout",
     "output_type": "stream",
     "text": [
      "a\n",
      "after\n",
      "dog\n",
      "he\n",
      "home\n",
      "ran\n",
      "saw\n"
     ]
    }
   ],
   "source": [
    "# Test Sentence 1\n",
    "\" A dog ran home after he saw a dog\"\n",
    "\n",
    "inputlist = ['A', 'dog', 'ran', 'home', 'after', 'he', 'saw', 'a', 'dog']\n",
    "\n",
    "sorted_list = data_wrangle(inputlist)"
   ]
  },
  {
   "cell_type": "code",
   "execution_count": 106,
   "id": "704a78a5-7438-469c-a8eb-0ff7186c4340",
   "metadata": {},
   "outputs": [
    {
     "name": "stdout",
     "output_type": "stream",
     "text": [
      "as\n",
      "athlete\n",
      "believes\n",
      "dad\n",
      "greatest\n",
      "has\n",
      "he\n",
      "horry\n",
      "is\n",
      "rings\n",
      "robert\n",
      "robert's\n",
      "seven\n",
      "the\n"
     ]
    }
   ],
   "source": [
    "# Test Sentence 2\n",
    "\" Robert's dad believes Robert Horry is the greatest athlete as he has seven rings \"\n",
    "\n",
    "inputlist = [\"Robert's\", 'dad', 'believes', 'Robert', 'Horry', 'is', 'the', 'greatest', 'athlete',\n",
    "            'as', 'he', 'has', 'seven', 'rings']\n",
    "\n",
    "sorted_list = data_wrangle(inputlist)\n"
   ]
  },
  {
   "cell_type": "code",
   "execution_count": 111,
   "id": "ba76316c-eaa6-4bc0-8255-a688b7108e2a",
   "metadata": {},
   "outputs": [
    {
     "name": "stdout",
     "output_type": "stream",
     "text": [
      "current\n",
      "direction\n",
      "fifteen\n",
      "he\n",
      "miles\n",
      "opposite\n",
      "ran\n",
      "river's\n",
      "the\n",
      "to\n"
     ]
    }
   ],
   "source": [
    "# Test Sentence 3\n",
    "\" He ran for fifteen miles opposite to the direction the river's current ran \"\n",
    "\n",
    "inputlist = ['He', 'ran', 'fifteen', 'miles', 'opposite', 'to', 'the', 'direction', 'the',\n",
    "            \"river's\", 'current', 'ran']\n",
    "\n",
    "sorted_list = data_wrangle(inputlist)"
   ]
  },
  {
   "cell_type": "markdown",
   "id": "d1ae3616-5a85-44fa-b321-682cc92c8e67",
   "metadata": {},
   "source": [
    "## 6.9) Dictionary Manipulations\n",
    "In this question, I carried out some elementary dictionay manipulations with the help of some chapter 6 examples from the textbook\n",
    "\n"
   ]
  },
  {
   "cell_type": "code",
   "execution_count": 119,
   "id": "dd2a7fa2-34b2-44ea-89a9-c0faae249b27",
   "metadata": {},
   "outputs": [],
   "source": [
    "# Create Dictionary\n",
    "\n",
    "tlds = {'Canada': 'ca', 'United States': 'us', 'Mexico': 'mx'}"
   ]
  },
  {
   "cell_type": "code",
   "execution_count": 125,
   "id": "ac2d2c10-efcd-44e3-9dfb-26c4e16007e7",
   "metadata": {},
   "outputs": [
    {
     "data": {
      "text/plain": [
       "True"
      ]
     },
     "execution_count": 125,
     "metadata": {},
     "output_type": "execute_result"
    }
   ],
   "source": [
    "# a. Check whether the dictionary contains the key 'Canada'\n",
    "\n",
    "'Canada' in tlds"
   ]
  },
  {
   "cell_type": "code",
   "execution_count": 127,
   "id": "1e3c3962-f3ec-4cb5-a612-69ac76272394",
   "metadata": {},
   "outputs": [
    {
     "data": {
      "text/plain": [
       "False"
      ]
     },
     "execution_count": 127,
     "metadata": {},
     "output_type": "execute_result"
    }
   ],
   "source": [
    "# b. Check whether the dictionary contains the key 'France'\n",
    "\n",
    "'France' in tlds"
   ]
  },
  {
   "cell_type": "code",
   "execution_count": 169,
   "id": "a683aa74-fe5c-44b7-96bf-21b66ed11622",
   "metadata": {},
   "outputs": [
    {
     "name": "stdout",
     "output_type": "stream",
     "text": [
      "Canada,ca\n",
      "United States,us\n",
      "Mexico,mx\n"
     ]
    }
   ],
   "source": [
    "# c. Iterate through the key–value pairs and display them in two-column format.\n",
    "\n",
    "for key, value in tlds.items():\n",
    "    print(f\"{key:>},{value:}\")"
   ]
  },
  {
   "cell_type": "code",
   "execution_count": 171,
   "id": "77d9be0d-132c-46fa-b0e1-c7d0393313f7",
   "metadata": {},
   "outputs": [],
   "source": [
    "# d. Add the key-value pair 'Sweden' and 'sw' (which is incorrect)\n",
    "\n",
    "tlds['Sweden'] = 'sw'\n"
   ]
  },
  {
   "cell_type": "code",
   "execution_count": 173,
   "id": "8f063116-da13-4fef-8344-8000fc36cb3d",
   "metadata": {},
   "outputs": [],
   "source": [
    "# e. Update the value for the key 'Sweden' to 'se'\n",
    "\n",
    "del tlds['Sweden']\n",
    "\n",
    "tlds['Sweden'] = 'se'"
   ]
  },
  {
   "cell_type": "code",
   "execution_count": 175,
   "id": "cb32fd0a-a4c2-4a6d-9ba3-e9032947e0da",
   "metadata": {},
   "outputs": [
    {
     "data": {
      "text/plain": [
       "{'ca': 'Canada', 'us': 'United States', 'mx': 'Mexico', 'se': 'Sweden'}"
      ]
     },
     "execution_count": 175,
     "metadata": {},
     "output_type": "execute_result"
    }
   ],
   "source": [
    "# f. Use a dictionary comprehension to reverse the keys and values.\n",
    "\n",
    "# Used dictionary comprehension to create a new dictionary by flipping the order of the \"template\" dict: tlds\n",
    "tlds_reversed = {symbol: name for name, symbol in tlds.items()}\n",
    "\n",
    "tlds_reversed\n"
   ]
  },
  {
   "cell_type": "code",
   "execution_count": 185,
   "id": "ef618586-0624-4b38-81fa-2e8997699767",
   "metadata": {},
   "outputs": [
    {
     "data": {
      "text/plain": [
       "{'ca': 'CANADA', 'us': 'UNITED STATES', 'mx': 'MEXICO', 'se': 'SWEDEN'}"
      ]
     },
     "execution_count": 185,
     "metadata": {},
     "output_type": "execute_result"
    }
   ],
   "source": [
    "# g. With the result of part (f), use a dictionary comprehension to convert the country names to all uppercase letters.\n",
    "\n",
    "tlds_reversed_upper = {symbol: name.upper() for symbol, name in tlds_reversed.items()}\n",
    "\n",
    "tlds_reversed_upper"
   ]
  },
  {
   "cell_type": "markdown",
   "id": "20abc8a5-0010-4709-a755-3e4b6fe87d8d",
   "metadata": {},
   "source": [
    "## 7.2) Broadcasting. LabAssist: Model code after broadcasting examples in 7.7\n",
    "In this question I utilized numpy and broadcasting (as shown in 7.7) to carry out certain array operations\n"
   ]
  },
  {
   "cell_type": "code",
   "execution_count": 204,
   "id": "e7419756-1360-4fa1-aafc-2442cb8db15c",
   "metadata": {},
   "outputs": [
    {
     "data": {
      "text/plain": [
       "array([[0, 1],\n",
       "       [2, 3]])"
      ]
     },
     "execution_count": 204,
     "metadata": {},
     "output_type": "execute_result"
    }
   ],
   "source": [
    "import numpy as np\n",
    "\n",
    "array = np.arange(0,4).reshape(2,2)\n",
    "\n",
    "array"
   ]
  },
  {
   "cell_type": "code",
   "execution_count": 214,
   "id": "d464ba8b-d6c0-488f-a61f-07ffd970b555",
   "metadata": {},
   "outputs": [
    {
     "data": {
      "text/plain": [
       "array([[ 0,  1],\n",
       "       [ 8, 27]], dtype=int32)"
      ]
     },
     "execution_count": 214,
     "metadata": {},
     "output_type": "execute_result"
    }
   ],
   "source": [
    "# a) Cube every element of the array\n",
    "\n",
    "array ** 3\n"
   ]
  },
  {
   "cell_type": "code",
   "execution_count": 212,
   "id": "6a0f3699-861a-4ba6-82aa-8dbd752c5c5b",
   "metadata": {},
   "outputs": [
    {
     "data": {
      "text/plain": [
       "array([[ 7,  8],\n",
       "       [ 9, 10]])"
      ]
     },
     "execution_count": 212,
     "metadata": {},
     "output_type": "execute_result"
    }
   ],
   "source": [
    "# b) Add 7 to every value of the array\n",
    "\n",
    "array + 7"
   ]
  },
  {
   "cell_type": "code",
   "execution_count": 216,
   "id": "6dc751a0-890f-43c1-9cbf-7da2ae08fc59",
   "metadata": {},
   "outputs": [
    {
     "data": {
      "text/plain": [
       "array([[0, 2],\n",
       "       [4, 6]])"
      ]
     },
     "execution_count": 216,
     "metadata": {},
     "output_type": "execute_result"
    }
   ],
   "source": [
    "# c) Multiply every array element by 2\n",
    "\n",
    "array * 2"
   ]
  },
  {
   "cell_type": "markdown",
   "id": "730f792f-5df3-4e1f-94d4-567c0816e9bc",
   "metadata": {},
   "source": [
    "## 7.9 Data Science: Index and Slicing Arrays. LabAssist: model code after 7.10\n",
    "In this question, I used index and slicing principles to retrieve certain values from an array"
   ]
  },
  {
   "cell_type": "code",
   "execution_count": 221,
   "id": "bd7fbfc2-d5bf-4262-80d5-5d67217f0e49",
   "metadata": {},
   "outputs": [
    {
     "data": {
      "text/plain": [
       "array([[ 1,  2,  3,  4,  5],\n",
       "       [ 6,  7,  8,  9, 10],\n",
       "       [11, 12, 13, 14, 15]])"
      ]
     },
     "execution_count": 221,
     "metadata": {},
     "output_type": "execute_result"
    }
   ],
   "source": [
    "# Create Array as described by problem statement\n",
    "array = np.arange(1,16).reshape(3,5)\n",
    "array"
   ]
  },
  {
   "cell_type": "code",
   "execution_count": 225,
   "id": "b2256ece-bdd8-4638-b03d-12ff3421a8e6",
   "metadata": {},
   "outputs": [
    {
     "data": {
      "text/plain": [
       "array([11, 12, 13, 14, 15])"
      ]
     },
     "execution_count": 225,
     "metadata": {},
     "output_type": "execute_result"
    }
   ],
   "source": [
    "# a) select row 2\n",
    "\n",
    "array[2,:]"
   ]
  },
  {
   "cell_type": "code",
   "execution_count": 227,
   "id": "79709ff5-6173-424e-b836-401a9f9b03bc",
   "metadata": {},
   "outputs": [
    {
     "data": {
      "text/plain": [
       "array([ 5, 10, 15])"
      ]
     },
     "execution_count": 227,
     "metadata": {},
     "output_type": "execute_result"
    }
   ],
   "source": [
    "# b) select column 4\n",
    "\n",
    "array[:,4]"
   ]
  },
  {
   "cell_type": "code",
   "execution_count": 233,
   "id": "84ea420a-94f1-43a1-9866-93f46d6bf440",
   "metadata": {},
   "outputs": [
    {
     "data": {
      "text/plain": [
       "array([[ 1,  2,  3,  4,  5],\n",
       "       [ 6,  7,  8,  9, 10]])"
      ]
     },
     "execution_count": 233,
     "metadata": {},
     "output_type": "execute_result"
    }
   ],
   "source": [
    "# c) select rows 0 and 1 \n",
    "\n",
    "array[0:2]"
   ]
  },
  {
   "cell_type": "code",
   "execution_count": 235,
   "id": "d5ee32d8-c7e4-4f0a-b202-9defd2d828f3",
   "metadata": {},
   "outputs": [
    {
     "data": {
      "text/plain": [
       "array([[ 3,  4,  5],\n",
       "       [ 8,  9, 10],\n",
       "       [13, 14, 15]])"
      ]
     },
     "execution_count": 235,
     "metadata": {},
     "output_type": "execute_result"
    }
   ],
   "source": [
    "# d) Select columns 2-4\n",
    "\n",
    "array[:, 2:5]"
   ]
  },
  {
   "cell_type": "code",
   "execution_count": 237,
   "id": "9ba56256-7c14-493d-bddd-ef37edc897d5",
   "metadata": {},
   "outputs": [
    {
     "data": {
      "text/plain": [
       "10"
      ]
     },
     "execution_count": 237,
     "metadata": {},
     "output_type": "execute_result"
    }
   ],
   "source": [
    "# e) Select the element that is in row 1 and column 4\n",
    "\n",
    "array[1,4]"
   ]
  },
  {
   "cell_type": "code",
   "execution_count": 253,
   "id": "6fb11fcd-3546-4076-9457-f94965fa6756",
   "metadata": {},
   "outputs": [
    {
     "data": {
      "text/plain": [
       "array([[ 6,  8, 10],\n",
       "       [11, 13, 15]])"
      ]
     },
     "execution_count": 253,
     "metadata": {},
     "output_type": "execute_result"
    }
   ],
   "source": [
    "# f) Select all elements from rows 1 and 2 that are in columns 0, 2 and 4\n",
    "array[1:3, [0,2,4]]"
   ]
  }
 ],
 "metadata": {
  "kernelspec": {
   "display_name": "Python 3 (ipykernel)",
   "language": "python",
   "name": "python3"
  },
  "language_info": {
   "codemirror_mode": {
    "name": "ipython",
    "version": 3
   },
   "file_extension": ".py",
   "mimetype": "text/x-python",
   "name": "python",
   "nbconvert_exporter": "python",
   "pygments_lexer": "ipython3",
   "version": "3.12.3"
  }
 },
 "nbformat": 4,
 "nbformat_minor": 5
}
