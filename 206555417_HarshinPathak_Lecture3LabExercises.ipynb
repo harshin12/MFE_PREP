{
 "cells": [
  {
   "cell_type": "markdown",
   "id": "94936789-204b-4a07-8fbf-8d0e2a0f6799",
   "metadata": {},
   "source": [
    "# Lecture 3 Lab Exerices\n",
    "* Harshin Pathak\n",
    "* Self Assesment: Overall I enjoyed this assignment. The questions were challening and rewarding. To be honest all questions were pretty challenging but not too difficult. I still have some minor issues regarding logic and iterations that I am able to work out pretty quick. I hope to improve on this over time. 5.6 was by far the weirdest question for me. It took longer than it should have and I believe it is down to the fact that I havent worked with tuples in the past, especially the packing and unpacking. I hope to iron these issues out soon!"
   ]
  },
  {
   "cell_type": "markdown",
   "id": "376e2bf8-1177-4a3c-9380-29f0173b1983",
   "metadata": {},
   "source": [
    "## 4.9 Data Science: Temperature Conversion\n",
    "In this question I intially built the Celsius to Fahrenheit conversion function. Next, I created a for loop to loop in celsius values from 0 to 100 degrees. I also spent some time playing around with the Tabular formatting to make the output cleaner."
   ]
  },
  {
   "cell_type": "code",
   "execution_count": 6,
   "id": "6c4e6b23-0c4e-4897-953e-6e4006479ffe",
   "metadata": {},
   "outputs": [
    {
     "name": "stdout",
     "output_type": "stream",
     "text": [
      "   Celsius Fahrenheit\n",
      "         0       32.0\n",
      "         1       33.8\n",
      "         2       35.6\n",
      "         3       37.4\n",
      "         4       39.2\n",
      "         5       41.0\n",
      "         6       42.8\n",
      "         7       44.6\n",
      "         8       46.4\n",
      "         9       48.2\n",
      "        10       50.0\n",
      "        11       51.8\n",
      "        12       53.6\n",
      "        13       55.4\n",
      "        14       57.2\n",
      "        15       59.0\n",
      "        16       60.8\n",
      "        17       62.6\n",
      "        18       64.4\n",
      "        19       66.2\n",
      "        20       68.0\n",
      "        21       69.8\n",
      "        22       71.6\n",
      "        23       73.4\n",
      "        24       75.2\n",
      "        25       77.0\n",
      "        26       78.8\n",
      "        27       80.6\n",
      "        28       82.4\n",
      "        29       84.2\n",
      "        30       86.0\n",
      "        31       87.8\n",
      "        32       89.6\n",
      "        33       91.4\n",
      "        34       93.2\n",
      "        35       95.0\n",
      "        36       96.8\n",
      "        37       98.6\n",
      "        38      100.4\n",
      "        39      102.2\n",
      "        40      104.0\n",
      "        41      105.8\n",
      "        42      107.6\n",
      "        43      109.4\n",
      "        44      111.2\n",
      "        45      113.0\n",
      "        46      114.8\n",
      "        47      116.6\n",
      "        48      118.4\n",
      "        49      120.2\n",
      "        50      122.0\n",
      "        51      123.8\n",
      "        52      125.6\n",
      "        53      127.4\n",
      "        54      129.2\n",
      "        55      131.0\n",
      "        56      132.8\n",
      "        57      134.6\n",
      "        58      136.4\n",
      "        59      138.2\n",
      "        60      140.0\n",
      "        61      141.8\n",
      "        62      143.6\n",
      "        63      145.4\n",
      "        64      147.2\n",
      "        65      149.0\n",
      "        66      150.8\n",
      "        67      152.6\n",
      "        68      154.4\n",
      "        69      156.2\n",
      "        70      158.0\n",
      "        71      159.8\n",
      "        72      161.6\n",
      "        73      163.4\n",
      "        74      165.2\n",
      "        75      167.0\n",
      "        76      168.8\n",
      "        77      170.6\n",
      "        78      172.4\n",
      "        79      174.2\n",
      "        80      176.0\n",
      "        81      177.8\n",
      "        82      179.6\n",
      "        83      181.4\n",
      "        84      183.2\n",
      "        85      185.0\n",
      "        86      186.8\n",
      "        87      188.6\n",
      "        88      190.4\n",
      "        89      192.2\n",
      "        90      194.0\n",
      "        91      195.8\n",
      "        92      197.6\n",
      "        93      199.4\n",
      "        94      201.2\n",
      "        95      203.0\n",
      "        96      204.8\n",
      "        97      206.6\n",
      "        98      208.4\n",
      "        99      210.2\n",
      "       100      212.0\n"
     ]
    }
   ],
   "source": [
    "# Create Function\n",
    "def fahrenheit(C):\n",
    "    F = ((9/5)*C) + 32\n",
    "    return F\n",
    "\n",
    "# Setup for Tabular Formatting\n",
    "print(f\"{'Celsius':>10} {'Fahrenheit':>10}\")\n",
    "\n",
    "# Create for loop to \"loop\" celsius values into function\n",
    "for t in range(0,101):\n",
    "    F = fahrenheit(t)\n",
    "    print(f\"{t:>10} {F:>10.1f}\")\n"
   ]
  },
  {
   "cell_type": "markdown",
   "id": "d2cd4f9c-ff61-4b78-b6ef-334a0ff413f6",
   "metadata": {},
   "source": [
    "## 5.6 Functions Returning Tuples\n",
    "In this question, I created a function that took three inputs, then rotated them whilst creating a tuple. I then unpacked the tuple with the 3 inputs rotated. I repeated this process another 2 times."
   ]
  },
  {
   "cell_type": "code",
   "execution_count": 125,
   "id": "589a5a57-3b96-4b2d-8e5d-8b143b30f4c7",
   "metadata": {},
   "outputs": [
    {
     "name": "stdout",
     "output_type": "stream",
     "text": [
      "a = 1984, b = Doug, c = 22\n"
     ]
    }
   ],
   "source": [
    " # Define rotate, tuple creation function\n",
    "def rotate(a, b, c):\n",
    "    \n",
    "    return (c,a,b)\n",
    "\n",
    "# Set initial three arguements as described in problem\n",
    "a = 'Doug'\n",
    "b = 22\n",
    "c = 1984\n",
    "\n",
    "# Call function the first time\n",
    "tup = rotate( a, b, c)\n",
    "\n",
    "# unpack\n",
    "a, b, c = tup\n",
    "print(f'a = {a}, b = {b}, c = {c}')"
   ]
  },
  {
   "cell_type": "code",
   "execution_count": 127,
   "id": "0d5d30b9-52ff-41bf-a00c-c33e9a71eccf",
   "metadata": {},
   "outputs": [
    {
     "name": "stdout",
     "output_type": "stream",
     "text": [
      "a = 22, b = 1984, c = Doug\n"
     ]
    }
   ],
   "source": [
    "# Call function and unpack tuple 2nd time\n",
    "\n",
    "tup = rotate(a,b,c)\n",
    "a, b, c = tup\n",
    "print(f'a = {a}, b = {b}, c = {c}')\n",
    "    "
   ]
  },
  {
   "cell_type": "code",
   "execution_count": 129,
   "id": "6eddff27-d025-442b-af59-e3cb791019d9",
   "metadata": {},
   "outputs": [
    {
     "name": "stdout",
     "output_type": "stream",
     "text": [
      "a = Doug, b = 22, c = 1984\n"
     ]
    }
   ],
   "source": [
    "# Call function and unpack tuple 3rd time\n",
    "\n",
    "tup = rotate(a,b,c)\n",
    "a, b, c = tup\n",
    "print(f'a = {a}, b = {b}, c = {c}')"
   ]
  },
  {
   "cell_type": "markdown",
   "id": "d34712a7-d07f-481c-8702-111866132aee",
   "metadata": {},
   "source": [
    "## 5.7 Data Science: Duplicate Elimination\n",
    "In this question I created a function to clean and reorder an input array. The main cleaning feature was to remove any duplicate value in the array. This function was tested with a numeric and string array"
   ]
  },
  {
   "cell_type": "code",
   "execution_count": 245,
   "id": "b4600fa7-a816-47e9-b348-6281ed5a68ed",
   "metadata": {},
   "outputs": [
    {
     "data": {
      "text/plain": [
       "[1, 2, 3, 4, 5, 6, 7, 8, 9, 10]"
      ]
     },
     "execution_count": 245,
     "metadata": {},
     "output_type": "execute_result"
    }
   ],
   "source": [
    "# Create function to \"clean list\"\n",
    "\n",
    "def prep(l_1):\n",
    "    \n",
    "# create blank list: l_2    \n",
    "    l_2 = []\n",
    "    \n",
    "# cycle through all values in the list to compare to values in l_2   \n",
    "    for i in range(len(l_1)):        \n",
    "        if l_1[i] not in l_2:\n",
    "# If value in l_1 is not found in l_2, add value to l_2            \n",
    "            l_2.append(l_1[i])\n",
    "\n",
    "# Sort the l_2 list\n",
    "    l_2.sort()\n",
    "    \n",
    "    return l_2\n",
    "\n",
    "             \n",
    "list = [10,9,8,7,6,5,4,4,4,4,3,2,1,]\n",
    "\n",
    "l_2 = prep(list)\n",
    "\n",
    "l_2"
   ]
  },
  {
   "cell_type": "code",
   "execution_count": 253,
   "id": "580bdf0e-1ac8-4085-898f-c008c2014b2e",
   "metadata": {},
   "outputs": [
    {
     "data": {
      "text/plain": [
       "['a', 'b', 'c', 'e', 'p', 'r']"
      ]
     },
     "execution_count": 253,
     "metadata": {},
     "output_type": "execute_result"
    }
   ],
   "source": [
    "# Test function with list of strings\n",
    "\n",
    "list2 = 'prerecba'\n",
    "\n",
    "l_2 = prep(list2)\n",
    "l_2\n"
   ]
  },
  {
   "cell_type": "markdown",
   "id": "4bdd17bc-1da9-4300-a1c3-7ff4644d1607",
   "metadata": {},
   "source": [
    "# 5.14 Is a Sequence Sorted?\n",
    "In this question, I created a function that iterated through a sequence to check whether sequence values were increasing. As a result, if conditions were met for all values in the sequence: we could say the sequence is sorted."
   ]
  },
  {
   "cell_type": "code",
   "execution_count": 49,
   "id": "49ef8360-3a7e-4829-884b-0f3605fc6ea1",
   "metadata": {},
   "outputs": [],
   "source": [
    "# Create function\n",
    "\n",
    "def is_ordered(seq):\n",
    "\n",
    "    # Create a verification list: verif\n",
    "    verif = []\n",
    "\n",
    "    # Iterate through all the values in seq\n",
    "    for i in range(len(seq)):\n",
    "\n",
    "    # if the iterated value is the last value in seq, count it as ordered.     \n",
    "        if seq[i] == seq[len(seq)-1]:\n",
    "            verif.append(1)\n",
    "\n",
    "    # If the iterated value (that ISNT last value in seq) is less than the next value, count as ordered    \n",
    "        elif seq[i] <= seq[i+1]:\n",
    "            verif.append(1)\n",
    "\n",
    "    # If none of our above conditions are true, seq isnt ordered and we add a 0 to verification list    \n",
    "        else:\n",
    "            verif.append(0)\n",
    "\n",
    "    \n",
    "    # If there is no 0 in our verification list: verif, all values in seq are ordered    \n",
    "    if 0 not in verif:\n",
    "        print('Seq is ordered', seq)\n",
    "        \n",
    "    else:\n",
    "        print('Seq is NOT ordered', seq)\n",
    "        \n",
    "    return verif\n",
    "        \n",
    "    \n",
    "        "
   ]
  },
  {
   "cell_type": "code",
   "execution_count": 30,
   "id": "5ef520d1-3873-49f9-a711-04a96774f165",
   "metadata": {},
   "outputs": [
    {
     "name": "stdout",
     "output_type": "stream",
     "text": [
      "Seq is NOT ordered bacdefg\n"
     ]
    }
   ],
   "source": [
    "# Testing function with a string\n",
    "x = 'bacdefg'\n",
    "\n",
    "z = is_ordered(x)\n"
   ]
  },
  {
   "cell_type": "code",
   "execution_count": 42,
   "id": "6388cd2b-8157-4311-a9ae-c31420d2ebf5",
   "metadata": {},
   "outputs": [
    {
     "name": "stdout",
     "output_type": "stream",
     "text": [
      "Seq is ordered [1, 1, 1, 2, 2, 2]\n"
     ]
    }
   ],
   "source": [
    "# Testing function with a list\n",
    "x = [1,1,1,2,2,2]\n",
    "\n",
    "z = is_ordered(x)\n"
   ]
  },
  {
   "cell_type": "code",
   "execution_count": 46,
   "id": "dcd04712-710b-42ff-b2cc-5d21adc62a58",
   "metadata": {},
   "outputs": [
    {
     "name": "stdout",
     "output_type": "stream",
     "text": [
      "Seq is NOT ordered (1, 1, 1, 30.5, 3, 3, 2, 2, 2)\n"
     ]
    }
   ],
   "source": [
    "# Testing function with a tuple\n",
    "x = (1,1,1,30.5,3,3,2,2,2)\n",
    "\n",
    "z = is_ordered(x)\n"
   ]
  },
  {
   "cell_type": "markdown",
   "id": "beabed34-c81e-4aa1-a77c-8f72c2a65504",
   "metadata": {},
   "source": [
    "# 5.27 Data Science: Duplication Elimination and Counting Frequencies\n",
    "In this question I created a list of 50 random variables from 1 to 10. All these values were put into a list \"x\". Next, I used the np.unique function to get out unique values and their corresponding frequencies."
   ]
  },
  {
   "cell_type": "code",
   "execution_count": 79,
   "id": "a6b24a24-4d04-490e-b553-b531181705f3",
   "metadata": {},
   "outputs": [
    {
     "name": "stdout",
     "output_type": "stream",
     "text": [
      "    Values  Frequency\n",
      "         1        5.0\n",
      "         2        4.0\n",
      "         3        5.0\n",
      "         4        7.0\n",
      "         5        4.0\n",
      "         6        3.0\n",
      "         7        4.0\n",
      "         8        8.0\n",
      "         9        5.0\n",
      "        10        5.0\n"
     ]
    }
   ],
   "source": [
    "import random\n",
    "import numpy as np\n",
    "\n",
    "# create list of length 50 of random rolls from 1 to 10\n",
    "x=[]\n",
    "for roll in range(50):\n",
    "    x.append(random.randrange(1,11))\n",
    "\n",
    "# Use np.unique to get unique values and frequencies\n",
    "values, frequencies = np.unique(x, return_counts = True)\n",
    "values\n",
    "\n",
    "\n",
    "# Output in neat table\n",
    "print(f\"{'Values':>10} {'Frequency':>10}\")\n",
    "\n",
    "for i in range(len(values)):\n",
    "    print(f\"{values[i]:>10} {frequencies[i]:>10.1f}\")\n",
    "\n"
   ]
  }
 ],
 "metadata": {
  "kernelspec": {
   "display_name": "Python 3 (ipykernel)",
   "language": "python",
   "name": "python3"
  },
  "language_info": {
   "codemirror_mode": {
    "name": "ipython",
    "version": 3
   },
   "file_extension": ".py",
   "mimetype": "text/x-python",
   "name": "python",
   "nbconvert_exporter": "python",
   "pygments_lexer": "ipython3",
   "version": "3.12.3"
  }
 },
 "nbformat": 4,
 "nbformat_minor": 5
}
